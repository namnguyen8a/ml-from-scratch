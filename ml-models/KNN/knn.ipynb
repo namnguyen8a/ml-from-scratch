{
 "cells": [
  {
   "cell_type": "code",
   "execution_count": null,
   "id": "4a15c47f",
   "metadata": {},
   "outputs": [],
   "source": [
    "import numpy as np\n",
    "import math\n",
    "\n",
    "arr1 = np.array([2, 3, 4, 5])\n",
    "arr2 = np.array([5, 6, 8, 4])\n",
    "\n",
    "array1 = [2, 3, 4, 5]\n",
    "array2 = [5, 6, 8, 4]"
   ]
  },
  {
   "cell_type": "markdown",
   "id": "44aed70b",
   "metadata": {},
   "source": [
    "# Euclidean Distance"
   ]
  },
  {
   "cell_type": "code",
   "execution_count": null,
   "id": "ac9981be",
   "metadata": {},
   "outputs": [
    {
     "ename": "NameError",
     "evalue": "name 'math' is not defined",
     "output_type": "error",
     "traceback": [
      "\u001b[31m---------------------------------------------------------------------------\u001b[39m",
      "\u001b[31mNameError\u001b[39m                                 Traceback (most recent call last)",
      "\u001b[36mCell\u001b[39m\u001b[36m \u001b[39m\u001b[32mIn[7]\u001b[39m\u001b[32m, line 5\u001b[39m\n\u001b[32m      2\u001b[39m euclid_dist\n\u001b[32m      4\u001b[39m \u001b[38;5;28;01mfor\u001b[39;00m a, b \u001b[38;5;129;01min\u001b[39;00m \u001b[38;5;28mzip\u001b[39m(array1, array2):\n\u001b[32m----> \u001b[39m\u001b[32m5\u001b[39m     euclid_dist = \u001b[43mmath\u001b[49m.sqrt((a-b)**\u001b[32m2\u001b[39m)\n",
      "\u001b[31mNameError\u001b[39m: name 'math' is not defined"
     ]
    }
   ],
   "source": [
    "\n",
    "euclid_dist = np.sqrt((arr1 - arr2)**2)\n",
    "euclid_dist\n"
   ]
  },
  {
   "cell_type": "code",
   "execution_count": null,
   "id": "035a9b55",
   "metadata": {},
   "outputs": [],
   "source": []
  }
 ],
 "metadata": {
  "kernelspec": {
   "display_name": ".ml-env",
   "language": "python",
   "name": "python3"
  },
  "language_info": {
   "codemirror_mode": {
    "name": "ipython",
    "version": 3
   },
   "file_extension": ".py",
   "mimetype": "text/x-python",
   "name": "python",
   "nbconvert_exporter": "python",
   "pygments_lexer": "ipython3",
   "version": "3.11.0"
  }
 },
 "nbformat": 4,
 "nbformat_minor": 5
}
