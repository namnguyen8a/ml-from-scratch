{
 "cells": [
  {
   "cell_type": "markdown",
   "id": "49c23c5e",
   "metadata": {},
   "source": [
    "# Implement LinearRegression:\n",
    "- Linear Regression using normal equation (https://math-gpt.org/chat/ac0d400f-ab9f-46a8-8c5d-c5c60ea6ed66)\n",
    "- Linear Regression using gradient descent\n",
    "- Polynomial/Non-linear Regression"
   ]
  },
  {
   "cell_type": "code",
   "execution_count": null,
   "id": "7d933880",
   "metadata": {},
   "outputs": [],
   "source": [
    "# Linear regression using normal equation (for small feature)"
   ]
  }
 ],
 "metadata": {
  "kernelspec": {
   "display_name": ".ml-env",
   "language": "python",
   "name": "python3"
  },
  "language_info": {
   "name": "python",
   "version": "3.11.0"
  }
 },
 "nbformat": 4,
 "nbformat_minor": 5
}
